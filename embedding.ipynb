{
 "cells": [
  {
   "cell_type": "code",
   "execution_count": 1,
   "metadata": {},
   "outputs": [],
   "source": [
    "from tensorflow.keras.preprocessing.text import one_hot"
   ]
  },
  {
   "cell_type": "code",
   "execution_count": 2,
   "metadata": {},
   "outputs": [],
   "source": [
    "### sentences\n",
    "sent=[  'the glass of milk',\n",
    "     'the glass of juice',\n",
    "     'the cup of tea',\n",
    "    'I am a good boy',\n",
    "     'I am a good developer',\n",
    "     'understand the meaning of words',\n",
    "     'your videos are good',]"
   ]
  },
  {
   "cell_type": "code",
   "execution_count": 3,
   "metadata": {},
   "outputs": [
    {
     "data": {
      "text/plain": [
       "['the glass of milk',\n",
       " 'the glass of juice',\n",
       " 'the cup of tea',\n",
       " 'I am a good boy',\n",
       " 'I am a good developer',\n",
       " 'understand the meaning of words',\n",
       " 'your videos are good']"
      ]
     },
     "execution_count": 3,
     "metadata": {},
     "output_type": "execute_result"
    }
   ],
   "source": [
    "sent"
   ]
  },
  {
   "cell_type": "code",
   "execution_count": 4,
   "metadata": {},
   "outputs": [],
   "source": [
    "## Define the vocabulary size\n",
    "voc_size=10000"
   ]
  },
  {
   "cell_type": "code",
   "execution_count": 5,
   "metadata": {},
   "outputs": [
    {
     "data": {
      "text/plain": [
       "['the glass of milk',\n",
       " 'the glass of juice',\n",
       " 'the cup of tea',\n",
       " 'I am a good boy',\n",
       " 'I am a good developer',\n",
       " 'understand the meaning of words',\n",
       " 'your videos are good']"
      ]
     },
     "execution_count": 5,
     "metadata": {},
     "output_type": "execute_result"
    }
   ],
   "source": [
    "sent"
   ]
  },
  {
   "cell_type": "code",
   "execution_count": 6,
   "metadata": {},
   "outputs": [
    {
     "data": {
      "text/plain": [
       "[[9256, 6082, 8610, 1998],\n",
       " [9256, 6082, 8610, 4460],\n",
       " [9256, 7878, 8610, 2476],\n",
       " [9428, 7873, 6245, 2960, 6080],\n",
       " [9428, 7873, 6245, 2960, 3903],\n",
       " [2496, 9256, 4791, 8610, 6314],\n",
       " [4062, 5616, 3904, 2960]]"
      ]
     },
     "execution_count": 6,
     "metadata": {},
     "output_type": "execute_result"
    }
   ],
   "source": [
    "### One Hot Representation\n",
    "one_hot_repr=[one_hot(words,voc_size)for words in sent]\n",
    "one_hot_repr"
   ]
  },
  {
   "cell_type": "code",
   "execution_count": 7,
   "metadata": {},
   "outputs": [],
   "source": [
    "## word Embedding Representation\n",
    "\n",
    "from tensorflow.keras.layers import Embedding\n",
    "#from tensorflow.keras.processing.sequence import pad_sequences\n",
    "from tensorflow.keras.utils import pad_sequences\n",
    "from tensorflow.keras.models import Sequential"
   ]
  },
  {
   "cell_type": "code",
   "execution_count": 8,
   "metadata": {},
   "outputs": [],
   "source": [
    "import numpy as np"
   ]
  },
  {
   "cell_type": "code",
   "execution_count": 9,
   "metadata": {},
   "outputs": [
    {
     "name": "stdout",
     "output_type": "stream",
     "text": [
      "[[   0    0    0    0 9256 6082 8610 1998]\n",
      " [   0    0    0    0 9256 6082 8610 4460]\n",
      " [   0    0    0    0 9256 7878 8610 2476]\n",
      " [   0    0    0 9428 7873 6245 2960 6080]\n",
      " [   0    0    0 9428 7873 6245 2960 3903]\n",
      " [   0    0    0 2496 9256 4791 8610 6314]\n",
      " [   0    0    0    0 4062 5616 3904 2960]]\n"
     ]
    }
   ],
   "source": [
    "sent_length=8\n",
    "embedded_docs=pad_sequences(one_hot_repr,padding='pre',maxlen=sent_length)\n",
    "print(embedded_docs)"
   ]
  },
  {
   "cell_type": "code",
   "execution_count": 10,
   "metadata": {},
   "outputs": [],
   "source": [
    "## feature representation\n",
    "dim=10"
   ]
  },
  {
   "cell_type": "code",
   "execution_count": 11,
   "metadata": {},
   "outputs": [
    {
     "name": "stderr",
     "output_type": "stream",
     "text": [
      "c:\\Users\\moham\\AppData\\Local\\Programs\\Python\\Python312\\Lib\\site-packages\\keras\\src\\layers\\core\\embedding.py:90: UserWarning: Argument `input_length` is deprecated. Just remove it.\n",
      "  warnings.warn(\n"
     ]
    }
   ],
   "source": [
    "model=Sequential()\n",
    "model.add(Embedding(voc_size,dim,input_length=sent_length))\n",
    "model.compile('adam','mse')"
   ]
  },
  {
   "cell_type": "code",
   "execution_count": 12,
   "metadata": {},
   "outputs": [
    {
     "data": {
      "text/html": [
       "<pre style=\"white-space:pre;overflow-x:auto;line-height:normal;font-family:Menlo,'DejaVu Sans Mono',consolas,'Courier New',monospace\"><span style=\"font-weight: bold\">Model: \"sequential\"</span>\n",
       "</pre>\n"
      ],
      "text/plain": [
       "\u001b[1mModel: \"sequential\"\u001b[0m\n"
      ]
     },
     "metadata": {},
     "output_type": "display_data"
    },
    {
     "data": {
      "text/html": [
       "<pre style=\"white-space:pre;overflow-x:auto;line-height:normal;font-family:Menlo,'DejaVu Sans Mono',consolas,'Courier New',monospace\">┏━━━━━━━━━━━━━━━━━━━━━━━━━━━━━━━━━┳━━━━━━━━━━━━━━━━━━━━━━━━┳━━━━━━━━━━━━━━━┓\n",
       "┃<span style=\"font-weight: bold\"> Layer (type)                    </span>┃<span style=\"font-weight: bold\"> Output Shape           </span>┃<span style=\"font-weight: bold\">       Param # </span>┃\n",
       "┡━━━━━━━━━━━━━━━━━━━━━━━━━━━━━━━━━╇━━━━━━━━━━━━━━━━━━━━━━━━╇━━━━━━━━━━━━━━━┩\n",
       "│ embedding (<span style=\"color: #0087ff; text-decoration-color: #0087ff\">Embedding</span>)           │ ?                      │   <span style=\"color: #00af00; text-decoration-color: #00af00\">0</span> (unbuilt) │\n",
       "└─────────────────────────────────┴────────────────────────┴───────────────┘\n",
       "</pre>\n"
      ],
      "text/plain": [
       "┏━━━━━━━━━━━━━━━━━━━━━━━━━━━━━━━━━┳━━━━━━━━━━━━━━━━━━━━━━━━┳━━━━━━━━━━━━━━━┓\n",
       "┃\u001b[1m \u001b[0m\u001b[1mLayer (type)                   \u001b[0m\u001b[1m \u001b[0m┃\u001b[1m \u001b[0m\u001b[1mOutput Shape          \u001b[0m\u001b[1m \u001b[0m┃\u001b[1m \u001b[0m\u001b[1m      Param #\u001b[0m\u001b[1m \u001b[0m┃\n",
       "┡━━━━━━━━━━━━━━━━━━━━━━━━━━━━━━━━━╇━━━━━━━━━━━━━━━━━━━━━━━━╇━━━━━━━━━━━━━━━┩\n",
       "│ embedding (\u001b[38;5;33mEmbedding\u001b[0m)           │ ?                      │   \u001b[38;5;34m0\u001b[0m (unbuilt) │\n",
       "└─────────────────────────────────┴────────────────────────┴───────────────┘\n"
      ]
     },
     "metadata": {},
     "output_type": "display_data"
    },
    {
     "data": {
      "text/html": [
       "<pre style=\"white-space:pre;overflow-x:auto;line-height:normal;font-family:Menlo,'DejaVu Sans Mono',consolas,'Courier New',monospace\"><span style=\"font-weight: bold\"> Total params: </span><span style=\"color: #00af00; text-decoration-color: #00af00\">0</span> (0.00 B)\n",
       "</pre>\n"
      ],
      "text/plain": [
       "\u001b[1m Total params: \u001b[0m\u001b[38;5;34m0\u001b[0m (0.00 B)\n"
      ]
     },
     "metadata": {},
     "output_type": "display_data"
    },
    {
     "data": {
      "text/html": [
       "<pre style=\"white-space:pre;overflow-x:auto;line-height:normal;font-family:Menlo,'DejaVu Sans Mono',consolas,'Courier New',monospace\"><span style=\"font-weight: bold\"> Trainable params: </span><span style=\"color: #00af00; text-decoration-color: #00af00\">0</span> (0.00 B)\n",
       "</pre>\n"
      ],
      "text/plain": [
       "\u001b[1m Trainable params: \u001b[0m\u001b[38;5;34m0\u001b[0m (0.00 B)\n"
      ]
     },
     "metadata": {},
     "output_type": "display_data"
    },
    {
     "data": {
      "text/html": [
       "<pre style=\"white-space:pre;overflow-x:auto;line-height:normal;font-family:Menlo,'DejaVu Sans Mono',consolas,'Courier New',monospace\"><span style=\"font-weight: bold\"> Non-trainable params: </span><span style=\"color: #00af00; text-decoration-color: #00af00\">0</span> (0.00 B)\n",
       "</pre>\n"
      ],
      "text/plain": [
       "\u001b[1m Non-trainable params: \u001b[0m\u001b[38;5;34m0\u001b[0m (0.00 B)\n"
      ]
     },
     "metadata": {},
     "output_type": "display_data"
    }
   ],
   "source": [
    "model.summary()"
   ]
  },
  {
   "cell_type": "code",
   "execution_count": 13,
   "metadata": {},
   "outputs": [
    {
     "name": "stdout",
     "output_type": "stream",
     "text": [
      "\u001b[1m1/1\u001b[0m \u001b[32m━━━━━━━━━━━━━━━━━━━━\u001b[0m\u001b[37m\u001b[0m \u001b[1m0s\u001b[0m 238ms/step\n"
     ]
    },
    {
     "data": {
      "text/plain": [
       "array([[[ 0.03406345, -0.01793916, -0.04574154,  0.00259196,\n",
       "         -0.01743691, -0.00373255,  0.04063893, -0.01083946,\n",
       "         -0.00618293,  0.01359006],\n",
       "        [ 0.03406345, -0.01793916, -0.04574154,  0.00259196,\n",
       "         -0.01743691, -0.00373255,  0.04063893, -0.01083946,\n",
       "         -0.00618293,  0.01359006],\n",
       "        [ 0.03406345, -0.01793916, -0.04574154,  0.00259196,\n",
       "         -0.01743691, -0.00373255,  0.04063893, -0.01083946,\n",
       "         -0.00618293,  0.01359006],\n",
       "        [ 0.03406345, -0.01793916, -0.04574154,  0.00259196,\n",
       "         -0.01743691, -0.00373255,  0.04063893, -0.01083946,\n",
       "         -0.00618293,  0.01359006],\n",
       "        [ 0.01116136, -0.02539227, -0.00903768,  0.00983503,\n",
       "         -0.01872046,  0.0274311 ,  0.02382511, -0.00658754,\n",
       "          0.04924289, -0.04956968],\n",
       "        [-0.02509104,  0.01971461,  0.04894557, -0.00706657,\n",
       "          0.04119947, -0.02803613, -0.00890657, -0.00370162,\n",
       "         -0.04455322,  0.00362509],\n",
       "        [ 0.03522595, -0.0348021 ,  0.01273146, -0.0411361 ,\n",
       "         -0.01392099, -0.00605027,  0.03292484,  0.00069394,\n",
       "         -0.0445233 , -0.00254272],\n",
       "        [ 0.00103623,  0.02963616, -0.01764859, -0.02208915,\n",
       "          0.00159202,  0.03404399,  0.04051758,  0.00535697,\n",
       "         -0.02204642,  0.01412341]],\n",
       "\n",
       "       [[ 0.03406345, -0.01793916, -0.04574154,  0.00259196,\n",
       "         -0.01743691, -0.00373255,  0.04063893, -0.01083946,\n",
       "         -0.00618293,  0.01359006],\n",
       "        [ 0.03406345, -0.01793916, -0.04574154,  0.00259196,\n",
       "         -0.01743691, -0.00373255,  0.04063893, -0.01083946,\n",
       "         -0.00618293,  0.01359006],\n",
       "        [ 0.03406345, -0.01793916, -0.04574154,  0.00259196,\n",
       "         -0.01743691, -0.00373255,  0.04063893, -0.01083946,\n",
       "         -0.00618293,  0.01359006],\n",
       "        [ 0.03406345, -0.01793916, -0.04574154,  0.00259196,\n",
       "         -0.01743691, -0.00373255,  0.04063893, -0.01083946,\n",
       "         -0.00618293,  0.01359006],\n",
       "        [ 0.01116136, -0.02539227, -0.00903768,  0.00983503,\n",
       "         -0.01872046,  0.0274311 ,  0.02382511, -0.00658754,\n",
       "          0.04924289, -0.04956968],\n",
       "        [-0.02509104,  0.01971461,  0.04894557, -0.00706657,\n",
       "          0.04119947, -0.02803613, -0.00890657, -0.00370162,\n",
       "         -0.04455322,  0.00362509],\n",
       "        [ 0.03522595, -0.0348021 ,  0.01273146, -0.0411361 ,\n",
       "         -0.01392099, -0.00605027,  0.03292484,  0.00069394,\n",
       "         -0.0445233 , -0.00254272],\n",
       "        [ 0.03836666,  0.03594236,  0.01372114,  0.04867164,\n",
       "         -0.02776659,  0.02413065, -0.00655062,  0.01906202,\n",
       "         -0.01298838,  0.04725821]],\n",
       "\n",
       "       [[ 0.03406345, -0.01793916, -0.04574154,  0.00259196,\n",
       "         -0.01743691, -0.00373255,  0.04063893, -0.01083946,\n",
       "         -0.00618293,  0.01359006],\n",
       "        [ 0.03406345, -0.01793916, -0.04574154,  0.00259196,\n",
       "         -0.01743691, -0.00373255,  0.04063893, -0.01083946,\n",
       "         -0.00618293,  0.01359006],\n",
       "        [ 0.03406345, -0.01793916, -0.04574154,  0.00259196,\n",
       "         -0.01743691, -0.00373255,  0.04063893, -0.01083946,\n",
       "         -0.00618293,  0.01359006],\n",
       "        [ 0.03406345, -0.01793916, -0.04574154,  0.00259196,\n",
       "         -0.01743691, -0.00373255,  0.04063893, -0.01083946,\n",
       "         -0.00618293,  0.01359006],\n",
       "        [ 0.01116136, -0.02539227, -0.00903768,  0.00983503,\n",
       "         -0.01872046,  0.0274311 ,  0.02382511, -0.00658754,\n",
       "          0.04924289, -0.04956968],\n",
       "        [ 0.00757648,  0.04393489, -0.0368339 ,  0.04343562,\n",
       "          0.01843914, -0.04497189, -0.00879747, -0.00365091,\n",
       "         -0.03396243,  0.03944134],\n",
       "        [ 0.03522595, -0.0348021 ,  0.01273146, -0.0411361 ,\n",
       "         -0.01392099, -0.00605027,  0.03292484,  0.00069394,\n",
       "         -0.0445233 , -0.00254272],\n",
       "        [ 0.00865962, -0.00207256, -0.03677749,  0.00317155,\n",
       "         -0.01789371,  0.0327639 , -0.00735335,  0.02109176,\n",
       "         -0.04030533, -0.02631904]],\n",
       "\n",
       "       [[ 0.03406345, -0.01793916, -0.04574154,  0.00259196,\n",
       "         -0.01743691, -0.00373255,  0.04063893, -0.01083946,\n",
       "         -0.00618293,  0.01359006],\n",
       "        [ 0.03406345, -0.01793916, -0.04574154,  0.00259196,\n",
       "         -0.01743691, -0.00373255,  0.04063893, -0.01083946,\n",
       "         -0.00618293,  0.01359006],\n",
       "        [ 0.03406345, -0.01793916, -0.04574154,  0.00259196,\n",
       "         -0.01743691, -0.00373255,  0.04063893, -0.01083946,\n",
       "         -0.00618293,  0.01359006],\n",
       "        [-0.02720251,  0.02712831,  0.01873093, -0.04491819,\n",
       "          0.04121322,  0.03584896,  0.02322834, -0.01840483,\n",
       "          0.01813876, -0.03227947],\n",
       "        [-0.03129838,  0.02980361,  0.02922979,  0.04880375,\n",
       "         -0.02922374, -0.0062382 , -0.03235463, -0.04135213,\n",
       "         -0.0293065 ,  0.02206968],\n",
       "        [-0.03129677,  0.03440212, -0.00725494,  0.02339507,\n",
       "          0.03975994, -0.04714834,  0.04811278, -0.04169641,\n",
       "          0.04266218, -0.04825909],\n",
       "        [ 0.03612414,  0.04515361, -0.00930225, -0.0036599 ,\n",
       "         -0.04047561, -0.02720697, -0.02795848, -0.03833717,\n",
       "          0.00082072,  0.02338078],\n",
       "        [ 0.03894797, -0.04568981,  0.00222927, -0.02717556,\n",
       "         -0.01766018,  0.0113696 , -0.00089421, -0.04100455,\n",
       "         -0.00890368,  0.04444059]],\n",
       "\n",
       "       [[ 0.03406345, -0.01793916, -0.04574154,  0.00259196,\n",
       "         -0.01743691, -0.00373255,  0.04063893, -0.01083946,\n",
       "         -0.00618293,  0.01359006],\n",
       "        [ 0.03406345, -0.01793916, -0.04574154,  0.00259196,\n",
       "         -0.01743691, -0.00373255,  0.04063893, -0.01083946,\n",
       "         -0.00618293,  0.01359006],\n",
       "        [ 0.03406345, -0.01793916, -0.04574154,  0.00259196,\n",
       "         -0.01743691, -0.00373255,  0.04063893, -0.01083946,\n",
       "         -0.00618293,  0.01359006],\n",
       "        [-0.02720251,  0.02712831,  0.01873093, -0.04491819,\n",
       "          0.04121322,  0.03584896,  0.02322834, -0.01840483,\n",
       "          0.01813876, -0.03227947],\n",
       "        [-0.03129838,  0.02980361,  0.02922979,  0.04880375,\n",
       "         -0.02922374, -0.0062382 , -0.03235463, -0.04135213,\n",
       "         -0.0293065 ,  0.02206968],\n",
       "        [-0.03129677,  0.03440212, -0.00725494,  0.02339507,\n",
       "          0.03975994, -0.04714834,  0.04811278, -0.04169641,\n",
       "          0.04266218, -0.04825909],\n",
       "        [ 0.03612414,  0.04515361, -0.00930225, -0.0036599 ,\n",
       "         -0.04047561, -0.02720697, -0.02795848, -0.03833717,\n",
       "          0.00082072,  0.02338078],\n",
       "        [ 0.03068996, -0.02491907, -0.03553398, -0.04402155,\n",
       "          0.03073087, -0.01129021,  0.02588123,  0.01485554,\n",
       "         -0.04695046, -0.01044365]],\n",
       "\n",
       "       [[ 0.03406345, -0.01793916, -0.04574154,  0.00259196,\n",
       "         -0.01743691, -0.00373255,  0.04063893, -0.01083946,\n",
       "         -0.00618293,  0.01359006],\n",
       "        [ 0.03406345, -0.01793916, -0.04574154,  0.00259196,\n",
       "         -0.01743691, -0.00373255,  0.04063893, -0.01083946,\n",
       "         -0.00618293,  0.01359006],\n",
       "        [ 0.03406345, -0.01793916, -0.04574154,  0.00259196,\n",
       "         -0.01743691, -0.00373255,  0.04063893, -0.01083946,\n",
       "         -0.00618293,  0.01359006],\n",
       "        [-0.04910742,  0.04522235, -0.00572396,  0.0102149 ,\n",
       "          0.01510834, -0.0241477 , -0.02134172, -0.03476069,\n",
       "         -0.02733439,  0.01051859],\n",
       "        [ 0.01116136, -0.02539227, -0.00903768,  0.00983503,\n",
       "         -0.01872046,  0.0274311 ,  0.02382511, -0.00658754,\n",
       "          0.04924289, -0.04956968],\n",
       "        [-0.03266883,  0.02068902, -0.01204467,  0.02400339,\n",
       "          0.00309028, -0.04195856,  0.04811699, -0.01818298,\n",
       "         -0.02891327,  0.03518927],\n",
       "        [ 0.03522595, -0.0348021 ,  0.01273146, -0.0411361 ,\n",
       "         -0.01392099, -0.00605027,  0.03292484,  0.00069394,\n",
       "         -0.0445233 , -0.00254272],\n",
       "        [ 0.01337227, -0.04248555,  0.04440433,  0.00930312,\n",
       "          0.03181216,  0.0012735 ,  0.02458126, -0.02438148,\n",
       "         -0.02609906, -0.02101072]],\n",
       "\n",
       "       [[ 0.03406345, -0.01793916, -0.04574154,  0.00259196,\n",
       "         -0.01743691, -0.00373255,  0.04063893, -0.01083946,\n",
       "         -0.00618293,  0.01359006],\n",
       "        [ 0.03406345, -0.01793916, -0.04574154,  0.00259196,\n",
       "         -0.01743691, -0.00373255,  0.04063893, -0.01083946,\n",
       "         -0.00618293,  0.01359006],\n",
       "        [ 0.03406345, -0.01793916, -0.04574154,  0.00259196,\n",
       "         -0.01743691, -0.00373255,  0.04063893, -0.01083946,\n",
       "         -0.00618293,  0.01359006],\n",
       "        [ 0.03406345, -0.01793916, -0.04574154,  0.00259196,\n",
       "         -0.01743691, -0.00373255,  0.04063893, -0.01083946,\n",
       "         -0.00618293,  0.01359006],\n",
       "        [-0.04485261, -0.00031272, -0.01824505,  0.04385997,\n",
       "         -0.02960011,  0.0416454 ,  0.04075671, -0.00119247,\n",
       "          0.03198539,  0.00594467],\n",
       "        [-0.04088092, -0.02810304,  0.04718209,  0.03228965,\n",
       "         -0.04955037, -0.0499247 , -0.03881084,  0.04860784,\n",
       "         -0.00470982, -0.0420882 ],\n",
       "        [-0.04620422, -0.00282045, -0.01943487,  0.005915  ,\n",
       "         -0.00920033, -0.02083843,  0.01823871,  0.00429346,\n",
       "         -0.04209568,  0.03774707],\n",
       "        [ 0.03612414,  0.04515361, -0.00930225, -0.0036599 ,\n",
       "         -0.04047561, -0.02720697, -0.02795848, -0.03833717,\n",
       "          0.00082072,  0.02338078]]], dtype=float32)"
      ]
     },
     "execution_count": 13,
     "metadata": {},
     "output_type": "execute_result"
    }
   ],
   "source": [
    "model.predict(embedded_docs)"
   ]
  },
  {
   "cell_type": "code",
   "execution_count": 14,
   "metadata": {},
   "outputs": [
    {
     "data": {
      "text/plain": [
       "array([   0,    0,    0,    0, 9256, 6082, 8610, 1998], dtype=int32)"
      ]
     },
     "execution_count": 14,
     "metadata": {},
     "output_type": "execute_result"
    }
   ],
   "source": [
    "embedded_docs[0]"
   ]
  },
  {
   "cell_type": "code",
   "execution_count": 15,
   "metadata": {},
   "outputs": [
    {
     "ename": "ValueError",
     "evalue": "Exception encountered when calling Sequential.call().\n\n\u001b[1mCannot take the length of shape with unknown rank.\u001b[0m\n\nArguments received by Sequential.call():\n  • inputs=tf.Tensor(shape=<unknown>, dtype=int32)\n  • training=False\n  • mask=None",
     "output_type": "error",
     "traceback": [
      "\u001b[1;31m---------------------------------------------------------------------------\u001b[0m",
      "\u001b[1;31mValueError\u001b[0m                                Traceback (most recent call last)",
      "Cell \u001b[1;32mIn[15], line 1\u001b[0m\n\u001b[1;32m----> 1\u001b[0m \u001b[43mmodel\u001b[49m\u001b[38;5;241;43m.\u001b[39;49m\u001b[43mpredict\u001b[49m\u001b[43m(\u001b[49m\u001b[43membedded_docs\u001b[49m\u001b[43m[\u001b[49m\u001b[38;5;241;43m0\u001b[39;49m\u001b[43m]\u001b[49m\u001b[43m)\u001b[49m\n",
      "File \u001b[1;32mc:\\Users\\moham\\AppData\\Local\\Programs\\Python\\Python312\\Lib\\site-packages\\keras\\src\\utils\\traceback_utils.py:122\u001b[0m, in \u001b[0;36mfilter_traceback.<locals>.error_handler\u001b[1;34m(*args, **kwargs)\u001b[0m\n\u001b[0;32m    119\u001b[0m     filtered_tb \u001b[38;5;241m=\u001b[39m _process_traceback_frames(e\u001b[38;5;241m.\u001b[39m__traceback__)\n\u001b[0;32m    120\u001b[0m     \u001b[38;5;66;03m# To get the full stack trace, call:\u001b[39;00m\n\u001b[0;32m    121\u001b[0m     \u001b[38;5;66;03m# `keras.config.disable_traceback_filtering()`\u001b[39;00m\n\u001b[1;32m--> 122\u001b[0m     \u001b[38;5;28;01mraise\u001b[39;00m e\u001b[38;5;241m.\u001b[39mwith_traceback(filtered_tb) \u001b[38;5;28;01mfrom\u001b[39;00m \u001b[38;5;28;01mNone\u001b[39;00m\n\u001b[0;32m    123\u001b[0m \u001b[38;5;28;01mfinally\u001b[39;00m:\n\u001b[0;32m    124\u001b[0m     \u001b[38;5;28;01mdel\u001b[39;00m filtered_tb\n",
      "File \u001b[1;32mc:\\Users\\moham\\AppData\\Local\\Programs\\Python\\Python312\\Lib\\site-packages\\keras\\src\\utils\\traceback_utils.py:122\u001b[0m, in \u001b[0;36mfilter_traceback.<locals>.error_handler\u001b[1;34m(*args, **kwargs)\u001b[0m\n\u001b[0;32m    119\u001b[0m     filtered_tb \u001b[38;5;241m=\u001b[39m _process_traceback_frames(e\u001b[38;5;241m.\u001b[39m__traceback__)\n\u001b[0;32m    120\u001b[0m     \u001b[38;5;66;03m# To get the full stack trace, call:\u001b[39;00m\n\u001b[0;32m    121\u001b[0m     \u001b[38;5;66;03m# `keras.config.disable_traceback_filtering()`\u001b[39;00m\n\u001b[1;32m--> 122\u001b[0m     \u001b[38;5;28;01mraise\u001b[39;00m e\u001b[38;5;241m.\u001b[39mwith_traceback(filtered_tb) \u001b[38;5;28;01mfrom\u001b[39;00m \u001b[38;5;28;01mNone\u001b[39;00m\n\u001b[0;32m    123\u001b[0m \u001b[38;5;28;01mfinally\u001b[39;00m:\n\u001b[0;32m    124\u001b[0m     \u001b[38;5;28;01mdel\u001b[39;00m filtered_tb\n",
      "\u001b[1;31mValueError\u001b[0m: Exception encountered when calling Sequential.call().\n\n\u001b[1mCannot take the length of shape with unknown rank.\u001b[0m\n\nArguments received by Sequential.call():\n  • inputs=tf.Tensor(shape=<unknown>, dtype=int32)\n  • training=False\n  • mask=None"
     ]
    }
   ],
   "source": [
    "model.predict(embedded_docs[0])"
   ]
  },
  {
   "cell_type": "code",
   "execution_count": null,
   "metadata": {},
   "outputs": [],
   "source": []
  }
 ],
 "metadata": {
  "kernelspec": {
   "display_name": "Python 3",
   "language": "python",
   "name": "python3"
  },
  "language_info": {
   "codemirror_mode": {
    "name": "ipython",
    "version": 3
   },
   "file_extension": ".py",
   "mimetype": "text/x-python",
   "name": "python",
   "nbconvert_exporter": "python",
   "pygments_lexer": "ipython3",
   "version": "3.12.3"
  }
 },
 "nbformat": 4,
 "nbformat_minor": 2
}
