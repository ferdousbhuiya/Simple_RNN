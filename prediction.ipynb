{
 "cells": [
  {
   "cell_type": "code",
   "execution_count": 1,
   "metadata": {},
   "outputs": [],
   "source": [
    "# Step 1: Import Libraries and Load the Model\n",
    "import numpy as np\n",
    "import tensorflow as tf\n",
    "from tensorflow.keras.datasets import imdb\n",
    "from tensorflow.keras.preprocessing import sequence\n",
    "from tensorflow.keras.models import load_model"
   ]
  },
  {
   "cell_type": "code",
   "execution_count": 2,
   "metadata": {},
   "outputs": [],
   "source": [
    "\n",
    "# Load the IMDB dataset word index\n",
    "word_index = imdb.get_word_index()\n",
    "reverse_word_index = {value: key for key, value in word_index.items()}"
   ]
  },
  {
   "cell_type": "code",
   "execution_count": 3,
   "metadata": {},
   "outputs": [
    {
     "name": "stderr",
     "output_type": "stream",
     "text": [
      "WARNING:absl:Compiled the loaded model, but the compiled metrics have yet to be built. `model.compile_metrics` will be empty until you train or evaluate the model.\n"
     ]
    },
    {
     "data": {
      "text/html": [
       "<pre style=\"white-space:pre;overflow-x:auto;line-height:normal;font-family:Menlo,'DejaVu Sans Mono',consolas,'Courier New',monospace\"><span style=\"font-weight: bold\">Model: \"sequential\"</span>\n",
       "</pre>\n"
      ],
      "text/plain": [
       "\u001b[1mModel: \"sequential\"\u001b[0m\n"
      ]
     },
     "metadata": {},
     "output_type": "display_data"
    },
    {
     "data": {
      "text/html": [
       "<pre style=\"white-space:pre;overflow-x:auto;line-height:normal;font-family:Menlo,'DejaVu Sans Mono',consolas,'Courier New',monospace\">┏━━━━━━━━━━━━━━━━━━━━━━━━━━━━━━━━━┳━━━━━━━━━━━━━━━━━━━━━━━━┳━━━━━━━━━━━━━━━┓\n",
       "┃<span style=\"font-weight: bold\"> Layer (type)                    </span>┃<span style=\"font-weight: bold\"> Output Shape           </span>┃<span style=\"font-weight: bold\">       Param # </span>┃\n",
       "┡━━━━━━━━━━━━━━━━━━━━━━━━━━━━━━━━━╇━━━━━━━━━━━━━━━━━━━━━━━━╇━━━━━━━━━━━━━━━┩\n",
       "│ embedding (<span style=\"color: #0087ff; text-decoration-color: #0087ff\">Embedding</span>)           │ (<span style=\"color: #00af00; text-decoration-color: #00af00\">32</span>, <span style=\"color: #00af00; text-decoration-color: #00af00\">500</span>, <span style=\"color: #00af00; text-decoration-color: #00af00\">128</span>)         │     <span style=\"color: #00af00; text-decoration-color: #00af00\">1,280,000</span> │\n",
       "├─────────────────────────────────┼────────────────────────┼───────────────┤\n",
       "│ simple_rnn (<span style=\"color: #0087ff; text-decoration-color: #0087ff\">SimpleRNN</span>)          │ (<span style=\"color: #00af00; text-decoration-color: #00af00\">32</span>, <span style=\"color: #00af00; text-decoration-color: #00af00\">128</span>)              │        <span style=\"color: #00af00; text-decoration-color: #00af00\">32,896</span> │\n",
       "├─────────────────────────────────┼────────────────────────┼───────────────┤\n",
       "│ dense (<span style=\"color: #0087ff; text-decoration-color: #0087ff\">Dense</span>)                   │ (<span style=\"color: #00af00; text-decoration-color: #00af00\">32</span>, <span style=\"color: #00af00; text-decoration-color: #00af00\">1</span>)                │           <span style=\"color: #00af00; text-decoration-color: #00af00\">129</span> │\n",
       "└─────────────────────────────────┴────────────────────────┴───────────────┘\n",
       "</pre>\n"
      ],
      "text/plain": [
       "┏━━━━━━━━━━━━━━━━━━━━━━━━━━━━━━━━━┳━━━━━━━━━━━━━━━━━━━━━━━━┳━━━━━━━━━━━━━━━┓\n",
       "┃\u001b[1m \u001b[0m\u001b[1mLayer (type)                   \u001b[0m\u001b[1m \u001b[0m┃\u001b[1m \u001b[0m\u001b[1mOutput Shape          \u001b[0m\u001b[1m \u001b[0m┃\u001b[1m \u001b[0m\u001b[1m      Param #\u001b[0m\u001b[1m \u001b[0m┃\n",
       "┡━━━━━━━━━━━━━━━━━━━━━━━━━━━━━━━━━╇━━━━━━━━━━━━━━━━━━━━━━━━╇━━━━━━━━━━━━━━━┩\n",
       "│ embedding (\u001b[38;5;33mEmbedding\u001b[0m)           │ (\u001b[38;5;34m32\u001b[0m, \u001b[38;5;34m500\u001b[0m, \u001b[38;5;34m128\u001b[0m)         │     \u001b[38;5;34m1,280,000\u001b[0m │\n",
       "├─────────────────────────────────┼────────────────────────┼───────────────┤\n",
       "│ simple_rnn (\u001b[38;5;33mSimpleRNN\u001b[0m)          │ (\u001b[38;5;34m32\u001b[0m, \u001b[38;5;34m128\u001b[0m)              │        \u001b[38;5;34m32,896\u001b[0m │\n",
       "├─────────────────────────────────┼────────────────────────┼───────────────┤\n",
       "│ dense (\u001b[38;5;33mDense\u001b[0m)                   │ (\u001b[38;5;34m32\u001b[0m, \u001b[38;5;34m1\u001b[0m)                │           \u001b[38;5;34m129\u001b[0m │\n",
       "└─────────────────────────────────┴────────────────────────┴───────────────┘\n"
      ]
     },
     "metadata": {},
     "output_type": "display_data"
    },
    {
     "data": {
      "text/html": [
       "<pre style=\"white-space:pre;overflow-x:auto;line-height:normal;font-family:Menlo,'DejaVu Sans Mono',consolas,'Courier New',monospace\"><span style=\"font-weight: bold\"> Total params: </span><span style=\"color: #00af00; text-decoration-color: #00af00\">1,313,027</span> (5.01 MB)\n",
       "</pre>\n"
      ],
      "text/plain": [
       "\u001b[1m Total params: \u001b[0m\u001b[38;5;34m1,313,027\u001b[0m (5.01 MB)\n"
      ]
     },
     "metadata": {},
     "output_type": "display_data"
    },
    {
     "data": {
      "text/html": [
       "<pre style=\"white-space:pre;overflow-x:auto;line-height:normal;font-family:Menlo,'DejaVu Sans Mono',consolas,'Courier New',monospace\"><span style=\"font-weight: bold\"> Trainable params: </span><span style=\"color: #00af00; text-decoration-color: #00af00\">1,313,025</span> (5.01 MB)\n",
       "</pre>\n"
      ],
      "text/plain": [
       "\u001b[1m Trainable params: \u001b[0m\u001b[38;5;34m1,313,025\u001b[0m (5.01 MB)\n"
      ]
     },
     "metadata": {},
     "output_type": "display_data"
    },
    {
     "data": {
      "text/html": [
       "<pre style=\"white-space:pre;overflow-x:auto;line-height:normal;font-family:Menlo,'DejaVu Sans Mono',consolas,'Courier New',monospace\"><span style=\"font-weight: bold\"> Non-trainable params: </span><span style=\"color: #00af00; text-decoration-color: #00af00\">0</span> (0.00 B)\n",
       "</pre>\n"
      ],
      "text/plain": [
       "\u001b[1m Non-trainable params: \u001b[0m\u001b[38;5;34m0\u001b[0m (0.00 B)\n"
      ]
     },
     "metadata": {},
     "output_type": "display_data"
    },
    {
     "data": {
      "text/html": [
       "<pre style=\"white-space:pre;overflow-x:auto;line-height:normal;font-family:Menlo,'DejaVu Sans Mono',consolas,'Courier New',monospace\"><span style=\"font-weight: bold\"> Optimizer params: </span><span style=\"color: #00af00; text-decoration-color: #00af00\">2</span> (12.00 B)\n",
       "</pre>\n"
      ],
      "text/plain": [
       "\u001b[1m Optimizer params: \u001b[0m\u001b[38;5;34m2\u001b[0m (12.00 B)\n"
      ]
     },
     "metadata": {},
     "output_type": "display_data"
    }
   ],
   "source": [
    "# Load the pre-trained model with ReLU activation\n",
    "model = load_model('Simple_RNN_imdb.h5')\n",
    "model.summary()"
   ]
  },
  {
   "cell_type": "code",
   "execution_count": 4,
   "metadata": {},
   "outputs": [
    {
     "data": {
      "text/plain": [
       "[array([[-0.0961835 , -0.01150648,  0.04455559, ...,  0.1020615 ,\n",
       "          0.06277507, -0.01549348],\n",
       "        [-0.04313216, -0.02384724, -0.00681609, ..., -0.02398562,\n",
       "         -0.00299615, -0.0487179 ],\n",
       "        [-0.03172775,  0.01662618,  0.01862754, ..., -0.0771408 ,\n",
       "          0.00270597, -0.0361294 ],\n",
       "        ...,\n",
       "        [-0.00152942, -0.02755171,  0.01299787, ...,  0.08136757,\n",
       "         -0.01285265,  0.0200784 ],\n",
       "        [-0.00965604, -0.02528834,  0.05411769, ...,  0.03058501,\n",
       "          0.05615483, -0.04195531],\n",
       "        [ 0.17524752, -0.02650311, -0.13234288, ..., -0.09375873,\n",
       "         -0.04772616,  0.03933423]], dtype=float32),\n",
       " array([[-0.04594874, -0.14270137,  0.09582798, ...,  0.05779963,\n",
       "          0.08436419, -0.0972443 ],\n",
       "        [-0.06408762, -0.06676532, -0.04621524, ..., -0.09799066,\n",
       "          0.1600563 ,  0.05013924],\n",
       "        [ 0.05270282,  0.1615907 ,  0.14755814, ...,  0.06644037,\n",
       "          0.08659399,  0.01563166],\n",
       "        ...,\n",
       "        [-0.01512822,  0.11128583,  0.03153232, ...,  0.06661855,\n",
       "          0.02836304,  0.0980344 ],\n",
       "        [-0.02177879, -0.04805692, -0.06249151, ..., -0.11766952,\n",
       "         -0.1589764 ,  0.10834832],\n",
       "        [ 0.07658303, -0.12008836,  0.14216068, ...,  0.07225394,\n",
       "         -0.02240172, -0.04688134]], dtype=float32),\n",
       " array([[ 0.13069056,  0.08123019, -0.06053476, ...,  0.09158845,\n",
       "          0.18493056,  0.06452242],\n",
       "        [-0.07628375,  0.13234939, -0.1086689 , ..., -0.08561545,\n",
       "         -0.01825548,  0.05726847],\n",
       "        [ 0.09967051,  0.15128474,  0.09830333, ...,  0.05060782,\n",
       "          0.11165819,  0.13069098],\n",
       "        ...,\n",
       "        [ 0.05698239, -0.00691777, -0.08470338, ..., -0.29302835,\n",
       "          0.02270542, -0.09899528],\n",
       "        [-0.10001122,  0.033023  , -0.02297847, ..., -0.04743401,\n",
       "         -0.00747312, -0.17726132],\n",
       "        [-0.04099005, -0.02626168, -0.09412985, ..., -0.00730286,\n",
       "         -0.02120009, -0.09866489]], dtype=float32),\n",
       " array([-0.0107775 , -0.00374902, -0.00598957,  0.00830093,  0.03837946,\n",
       "        -0.02539133,  0.01411789, -0.0264836 ,  0.00318731,  0.01766631,\n",
       "        -0.00528032,  0.0233498 ,  0.00203129, -0.0113635 , -0.00357462,\n",
       "        -0.00827573, -0.00425857,  0.0200714 , -0.03021694, -0.00212562,\n",
       "        -0.02901229, -0.01700568, -0.00426712, -0.0070649 , -0.01471158,\n",
       "        -0.01406881, -0.01331091, -0.02620126,  0.01660704, -0.02244015,\n",
       "        -0.00564425,  0.00182418,  0.01766762,  0.00538357,  0.00604915,\n",
       "         0.01194899, -0.03015454, -0.01529203, -0.00384415,  0.02285518,\n",
       "        -0.00713109, -0.01504197,  0.00808905, -0.02467763, -0.00663555,\n",
       "        -0.03105906,  0.00955541,  0.01415485,  0.02055929,  0.02038974,\n",
       "        -0.02449073,  0.01282758, -0.01435485, -0.0148518 , -0.01167648,\n",
       "         0.031597  , -0.01561384, -0.02047623,  0.00580733, -0.02294346,\n",
       "        -0.00126236,  0.00803359, -0.02223767,  0.01778712, -0.02113629,\n",
       "        -0.02218946,  0.03599527,  0.00432336, -0.01132386, -0.02371638,\n",
       "         0.01637318,  0.00780028, -0.01486378, -0.02393612, -0.01775708,\n",
       "        -0.00729404, -0.01559779, -0.00907938, -0.03228086, -0.0091436 ,\n",
       "         0.01805753,  0.00252336, -0.01536957, -0.00596762,  0.00765618,\n",
       "        -0.00596283, -0.0102731 , -0.00638974, -0.00357836, -0.01023454,\n",
       "        -0.02037707,  0.0057672 ,  0.00915278, -0.02217984,  0.01461951,\n",
       "        -0.00598868, -0.01317958, -0.01830101, -0.02195997,  0.03540066,\n",
       "        -0.01030255, -0.00607754,  0.0050933 ,  0.01135217,  0.00251412,\n",
       "        -0.00030915,  0.02234311,  0.00735942,  0.01508752, -0.02712557,\n",
       "         0.04369039,  0.00106909, -0.00567837,  0.01332253,  0.00192126,\n",
       "        -0.01343194,  0.00173578, -0.00343833, -0.03093056, -0.01300692,\n",
       "        -0.01392214, -0.00791025,  0.0346842 ,  0.01733914, -0.0243302 ,\n",
       "        -0.01297063, -0.00150943, -0.00618978], dtype=float32),\n",
       " array([[-1.37421250e-01],\n",
       "        [-2.60213584e-01],\n",
       "        [ 2.51831277e-03],\n",
       "        [ 2.86018252e-02],\n",
       "        [-1.77861229e-02],\n",
       "        [ 2.25249708e-01],\n",
       "        [-1.69955090e-01],\n",
       "        [-2.91363597e-02],\n",
       "        [-1.10160351e-01],\n",
       "        [-1.39926150e-01],\n",
       "        [-5.05809765e-03],\n",
       "        [ 4.18602139e-01],\n",
       "        [ 2.98995048e-01],\n",
       "        [-1.46005273e-01],\n",
       "        [ 1.46265373e-01],\n",
       "        [ 1.00236371e-01],\n",
       "        [-2.13086873e-01],\n",
       "        [ 3.55664253e-01],\n",
       "        [ 3.99665266e-01],\n",
       "        [ 3.95584434e-01],\n",
       "        [ 1.13871507e-01],\n",
       "        [ 2.12406754e-01],\n",
       "        [ 1.85348839e-01],\n",
       "        [ 1.16340496e-01],\n",
       "        [ 5.70534579e-02],\n",
       "        [-3.72717470e-01],\n",
       "        [ 2.28717148e-01],\n",
       "        [ 2.51342386e-01],\n",
       "        [-4.73891497e-02],\n",
       "        [ 1.32994071e-01],\n",
       "        [-1.47061288e-01],\n",
       "        [ 9.75021794e-02],\n",
       "        [ 1.47205871e-03],\n",
       "        [ 7.80653283e-02],\n",
       "        [-9.09322873e-02],\n",
       "        [-1.32182211e-01],\n",
       "        [-1.01600125e-01],\n",
       "        [ 3.36660035e-02],\n",
       "        [ 4.70246933e-02],\n",
       "        [-9.76819396e-02],\n",
       "        [ 1.84612602e-01],\n",
       "        [-1.77374572e-01],\n",
       "        [ 6.32108688e-01],\n",
       "        [ 1.55429974e-01],\n",
       "        [-1.84025154e-01],\n",
       "        [ 1.06895387e-01],\n",
       "        [-1.54140741e-01],\n",
       "        [-1.29794106e-01],\n",
       "        [-1.52798563e-01],\n",
       "        [ 8.19646642e-02],\n",
       "        [ 2.10924312e-01],\n",
       "        [-1.65094092e-01],\n",
       "        [ 1.00948952e-01],\n",
       "        [ 5.72623499e-02],\n",
       "        [ 6.92129740e-03],\n",
       "        [ 4.88004759e-02],\n",
       "        [ 1.67069659e-01],\n",
       "        [ 1.70054525e-01],\n",
       "        [ 1.40951824e+00],\n",
       "        [ 2.98763603e-01],\n",
       "        [ 1.39329899e-02],\n",
       "        [-1.50481626e-01],\n",
       "        [ 1.03336675e-02],\n",
       "        [ 9.80364252e-03],\n",
       "        [-1.39917061e-01],\n",
       "        [ 1.48335218e-01],\n",
       "        [-1.93409637e-01],\n",
       "        [ 1.17921278e-01],\n",
       "        [ 1.65572584e-01],\n",
       "        [ 5.93935661e-02],\n",
       "        [ 2.02247426e-01],\n",
       "        [-1.55994207e-01],\n",
       "        [-8.69210362e-01],\n",
       "        [ 1.94462568e-01],\n",
       "        [-5.23855574e-02],\n",
       "        [ 1.69041101e-02],\n",
       "        [ 1.98800847e-01],\n",
       "        [ 9.58438292e-02],\n",
       "        [-3.93775217e-02],\n",
       "        [ 9.37861577e-02],\n",
       "        [ 3.08112919e-01],\n",
       "        [-5.12479424e-01],\n",
       "        [-6.94285780e-02],\n",
       "        [-1.84611946e-01],\n",
       "        [-1.73906714e-01],\n",
       "        [-1.16671018e-01],\n",
       "        [-2.07647413e-01],\n",
       "        [ 2.34629676e-01],\n",
       "        [ 1.19047165e-01],\n",
       "        [ 1.86996788e-01],\n",
       "        [-8.30349103e-02],\n",
       "        [ 1.10194936e-01],\n",
       "        [ 2.23156393e-01],\n",
       "        [ 1.08768411e-01],\n",
       "        [-1.81072488e-01],\n",
       "        [ 1.81488425e-01],\n",
       "        [ 1.84875309e-01],\n",
       "        [ 2.19303519e-01],\n",
       "        [-1.81637646e-03],\n",
       "        [ 1.34337682e-03],\n",
       "        [ 8.24368447e-02],\n",
       "        [ 6.99072421e-01],\n",
       "        [ 2.24137187e-01],\n",
       "        [ 3.55655730e-01],\n",
       "        [-3.52606803e-01],\n",
       "        [ 1.49852848e-02],\n",
       "        [ 4.89476211e-02],\n",
       "        [-1.48887053e-01],\n",
       "        [ 2.03702226e-01],\n",
       "        [-2.81612515e-01],\n",
       "        [-9.21507254e-02],\n",
       "        [ 1.69091627e-01],\n",
       "        [ 2.34176502e-01],\n",
       "        [ 1.65852606e-01],\n",
       "        [ 6.52913213e-01],\n",
       "        [-3.12230527e-01],\n",
       "        [ 1.30429757e+00],\n",
       "        [ 1.85875431e-01],\n",
       "        [ 4.45163511e-02],\n",
       "        [ 1.40922427e-01],\n",
       "        [ 1.03432231e-01],\n",
       "        [ 7.56389052e-02],\n",
       "        [ 4.70906705e-01],\n",
       "        [-6.25813529e-02],\n",
       "        [ 1.11044273e-01],\n",
       "        [ 1.23150714e-01],\n",
       "        [ 9.15565252e-01],\n",
       "        [ 8.31365511e-02]], dtype=float32),\n",
       " array([0.85633194], dtype=float32)]"
      ]
     },
     "execution_count": 4,
     "metadata": {},
     "output_type": "execute_result"
    }
   ],
   "source": [
    "model.get_weights()"
   ]
  },
  {
   "cell_type": "code",
   "execution_count": 5,
   "metadata": {},
   "outputs": [],
   "source": [
    "# Step 2: Helper Functions\n",
    "# Function to decode reviews\n",
    "def decode_review(encoded_review):\n",
    "    return ' '.join([reverse_word_index.get(i - 3, '?') for i in encoded_review])\n",
    "\n",
    "# Function to preprocess user input\n",
    "def preprocess_text(text):\n",
    "    words = text.lower().split()\n",
    "    encoded_review = [word_index.get(word, 2) + 3 for word in words]\n",
    "    padded_review = sequence.pad_sequences([encoded_review], maxlen=500)\n",
    "    return padded_review"
   ]
  },
  {
   "cell_type": "code",
   "execution_count": 6,
   "metadata": {},
   "outputs": [],
   "source": [
    "### Prediction  function\n",
    "\n",
    "def predict_sentiment(review):\n",
    "    preprocessed_input=preprocess_text(review)\n",
    "\n",
    "    prediction=model.predict(preprocessed_input)\n",
    "\n",
    "    sentiment = 'Positive' if prediction[0][0] > 0.5 else 'Negative'\n",
    "    \n",
    "    return sentiment, prediction[0][0]\n",
    "\n"
   ]
  },
  {
   "cell_type": "code",
   "execution_count": 7,
   "metadata": {},
   "outputs": [
    {
     "name": "stdout",
     "output_type": "stream",
     "text": [
      "\u001b[1m1/1\u001b[0m \u001b[32m━━━━━━━━━━━━━━━━━━━━\u001b[0m\u001b[37m\u001b[0m \u001b[1m0s\u001b[0m 293ms/step\n",
      "Review: This movie was fantastic! The acting was great and the plot was thrilling.\n",
      "Sentiment: Negative\n",
      "Prediction Score: 0.0034413891844451427\n"
     ]
    }
   ],
   "source": [
    "# Step 4: User Input and Prediction\n",
    "# Example review for prediction\n",
    "example_review = \"This movie was fantastic! The acting was great and the plot was thrilling.\"\n",
    "\n",
    "sentiment,score=predict_sentiment(example_review)\n",
    "\n",
    "print(f'Review: {example_review}')\n",
    "print(f'Sentiment: {sentiment}')\n",
    "print(f'Prediction Score: {score}')"
   ]
  },
  {
   "cell_type": "code",
   "execution_count": null,
   "metadata": {},
   "outputs": [],
   "source": []
  },
  {
   "cell_type": "code",
   "execution_count": null,
   "metadata": {},
   "outputs": [],
   "source": []
  },
  {
   "cell_type": "code",
   "execution_count": null,
   "metadata": {},
   "outputs": [],
   "source": []
  },
  {
   "cell_type": "code",
   "execution_count": null,
   "metadata": {},
   "outputs": [],
   "source": []
  }
 ],
 "metadata": {
  "kernelspec": {
   "display_name": "Python 3",
   "language": "python",
   "name": "python3"
  },
  "language_info": {
   "codemirror_mode": {
    "name": "ipython",
    "version": 3
   },
   "file_extension": ".py",
   "mimetype": "text/x-python",
   "name": "python",
   "nbconvert_exporter": "python",
   "pygments_lexer": "ipython3",
   "version": "3.12.0"
  }
 },
 "nbformat": 4,
 "nbformat_minor": 2
}
